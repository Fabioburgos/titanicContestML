{
 "cells": [
  {
   "cell_type": "code",
   "execution_count": 1,
   "id": "e119feab",
   "metadata": {
    "_cell_guid": "b1076dfc-b9ad-4769-8c92-a6c4dae69d19",
    "_uuid": "8f2839f25d086af736a60e9eeb907d3b93b6e0e5",
    "execution": {
     "iopub.execute_input": "2022-02-10T19:14:42.955138Z",
     "iopub.status.busy": "2022-02-10T19:14:42.954503Z",
     "iopub.status.idle": "2022-02-10T19:14:42.964280Z",
     "shell.execute_reply": "2022-02-10T19:14:42.963587Z",
     "shell.execute_reply.started": "2022-02-10T17:59:36.639842Z"
    },
    "papermill": {
     "duration": 0.034209,
     "end_time": "2022-02-10T19:14:42.964449",
     "exception": false,
     "start_time": "2022-02-10T19:14:42.930240",
     "status": "completed"
    },
    "tags": []
   },
   "outputs": [
    {
     "name": "stdout",
     "output_type": "stream",
     "text": [
      "/kaggle/input/titanic/train.csv\n",
      "/kaggle/input/titanic/test.csv\n",
      "/kaggle/input/titanic/gender_submission.csv\n"
     ]
    }
   ],
   "source": [
    "# This Python 3 environment comes with many helpful analytics libraries installed\n",
    "# It is defined by the kaggle/python Docker image: https://github.com/kaggle/docker-python\n",
    "# For example, here's several helpful packages to load\n",
    "\n",
    "import numpy as np # linear algebra\n",
    "import pandas as pd # data processing, CSV file I/O (e.g. pd.read_csv)\n",
    "\n",
    "# Input data files are available in the read-only \"../input/\" directory\n",
    "# For example, running this (by clicking run or pressing Shift+Enter) will list all files under the input directory\n",
    "\n",
    "import os\n",
    "for dirname, _, filenames in os.walk('/kaggle/input'):\n",
    "    for filename in filenames:\n",
    "        print(os.path.join(dirname, filename))\n",
    "\n",
    "# You can write up to 20GB to the current directory (/kaggle/working/) that gets preserved as output when you create a version using \"Save & Run All\" \n",
    "# You can also write temporary files to /kaggle/temp/, but they won't be saved outside of the current session"
   ]
  },
  {
   "cell_type": "code",
   "execution_count": 2,
   "id": "398b6a44",
   "metadata": {
    "execution": {
     "iopub.execute_input": "2022-02-10T19:14:43.001294Z",
     "iopub.status.busy": "2022-02-10T19:14:43.000638Z",
     "iopub.status.idle": "2022-02-10T19:14:43.030614Z",
     "shell.execute_reply": "2022-02-10T19:14:43.031255Z",
     "shell.execute_reply.started": "2022-02-10T18:55:54.849844Z"
    },
    "papermill": {
     "duration": 0.051263,
     "end_time": "2022-02-10T19:14:43.031468",
     "exception": false,
     "start_time": "2022-02-10T19:14:42.980205",
     "status": "completed"
    },
    "tags": []
   },
   "outputs": [],
   "source": [
    "#Welcome to my notebook about Titanic contest. \n",
    "#First of all, let's save the datasets into variables in order to use it later.\n",
    "train_titanic = pd.read_csv('/kaggle/input/titanic/train.csv')\n",
    "test_titanic = pd.read_csv('/kaggle/input/titanic/test.csv')\n",
    "submission_template = pd.read_csv('/kaggle/input/titanic/gender_submission.csv')"
   ]
  },
  {
   "cell_type": "code",
   "execution_count": 3,
   "id": "1cb777e8",
   "metadata": {
    "execution": {
     "iopub.execute_input": "2022-02-10T19:14:43.068709Z",
     "iopub.status.busy": "2022-02-10T19:14:43.068075Z",
     "iopub.status.idle": "2022-02-10T19:14:43.089400Z",
     "shell.execute_reply": "2022-02-10T19:14:43.090028Z",
     "shell.execute_reply.started": "2022-02-10T18:55:57.267061Z"
    },
    "papermill": {
     "duration": 0.043071,
     "end_time": "2022-02-10T19:14:43.090205",
     "exception": false,
     "start_time": "2022-02-10T19:14:43.047134",
     "status": "completed"
    },
    "tags": []
   },
   "outputs": [
    {
     "name": "stdout",
     "output_type": "stream",
     "text": [
      "<class 'pandas.core.frame.DataFrame'>\n",
      "RangeIndex: 891 entries, 0 to 890\n",
      "Data columns (total 12 columns):\n",
      " #   Column       Non-Null Count  Dtype  \n",
      "---  ------       --------------  -----  \n",
      " 0   PassengerId  891 non-null    int64  \n",
      " 1   Survived     891 non-null    int64  \n",
      " 2   Pclass       891 non-null    int64  \n",
      " 3   Name         891 non-null    object \n",
      " 4   Sex          891 non-null    object \n",
      " 5   Age          714 non-null    float64\n",
      " 6   SibSp        891 non-null    int64  \n",
      " 7   Parch        891 non-null    int64  \n",
      " 8   Ticket       891 non-null    object \n",
      " 9   Fare         891 non-null    float64\n",
      " 10  Cabin        204 non-null    object \n",
      " 11  Embarked     889 non-null    object \n",
      "dtypes: float64(2), int64(5), object(5)\n",
      "memory usage: 83.7+ KB\n"
     ]
    }
   ],
   "source": [
    "#The first step within any project of Machine Learning, is read, analyse and understand the datasets.\n",
    "#I can see that the columns called 'Age' and 'Cabin', have missing values (nan or empty), so we need to clean data or take decisions about the features for our model\n",
    "train_titanic.info()"
   ]
  },
  {
   "cell_type": "code",
   "execution_count": 4,
   "id": "c4c64526",
   "metadata": {
    "execution": {
     "iopub.execute_input": "2022-02-10T19:14:43.129190Z",
     "iopub.status.busy": "2022-02-10T19:14:43.128407Z",
     "iopub.status.idle": "2022-02-10T19:14:43.131713Z",
     "shell.execute_reply": "2022-02-10T19:14:43.132190Z",
     "shell.execute_reply.started": "2022-02-10T18:56:00.421638Z"
    },
    "papermill": {
     "duration": 0.026765,
     "end_time": "2022-02-10T19:14:43.132350",
     "exception": false,
     "start_time": "2022-02-10T19:14:43.105585",
     "status": "completed"
    },
    "tags": []
   },
   "outputs": [
    {
     "data": {
      "text/plain": [
       "177"
      ]
     },
     "execution_count": 4,
     "metadata": {},
     "output_type": "execute_result"
    }
   ],
   "source": [
    "#We can see the column 'Age' and 'Cabin' have missing values, as 'Cabin' could not be within our features, we can dismiss it.\n",
    "#The 'Age' column is important for us, so we need to see how we can get rid of the missing values.\n",
    "train_titanic['Age'].isnull().sum().sum()"
   ]
  },
  {
   "cell_type": "code",
   "execution_count": 5,
   "id": "c87a2263",
   "metadata": {
    "execution": {
     "iopub.execute_input": "2022-02-10T19:14:43.172271Z",
     "iopub.status.busy": "2022-02-10T19:14:43.171636Z",
     "iopub.status.idle": "2022-02-10T19:14:43.188764Z",
     "shell.execute_reply": "2022-02-10T19:14:43.189193Z",
     "shell.execute_reply.started": "2022-02-10T18:56:04.321279Z"
    },
    "papermill": {
     "duration": 0.041359,
     "end_time": "2022-02-10T19:14:43.189372",
     "exception": false,
     "start_time": "2022-02-10T19:14:43.148013",
     "status": "completed"
    },
    "tags": []
   },
   "outputs": [
    {
     "data": {
      "text/html": [
       "<div>\n",
       "<style scoped>\n",
       "    .dataframe tbody tr th:only-of-type {\n",
       "        vertical-align: middle;\n",
       "    }\n",
       "\n",
       "    .dataframe tbody tr th {\n",
       "        vertical-align: top;\n",
       "    }\n",
       "\n",
       "    .dataframe thead th {\n",
       "        text-align: right;\n",
       "    }\n",
       "</style>\n",
       "<table border=\"1\" class=\"dataframe\">\n",
       "  <thead>\n",
       "    <tr style=\"text-align: right;\">\n",
       "      <th></th>\n",
       "      <th>PassengerId</th>\n",
       "      <th>Survived</th>\n",
       "      <th>Pclass</th>\n",
       "      <th>Name</th>\n",
       "      <th>Sex</th>\n",
       "      <th>Age</th>\n",
       "      <th>SibSp</th>\n",
       "      <th>Parch</th>\n",
       "      <th>Ticket</th>\n",
       "      <th>Fare</th>\n",
       "      <th>Cabin</th>\n",
       "      <th>Embarked</th>\n",
       "    </tr>\n",
       "  </thead>\n",
       "  <tbody>\n",
       "    <tr>\n",
       "      <th>0</th>\n",
       "      <td>1</td>\n",
       "      <td>0</td>\n",
       "      <td>3</td>\n",
       "      <td>Braund, Mr. Owen Harris</td>\n",
       "      <td>male</td>\n",
       "      <td>22.0</td>\n",
       "      <td>1</td>\n",
       "      <td>0</td>\n",
       "      <td>A/5 21171</td>\n",
       "      <td>7.2500</td>\n",
       "      <td>NaN</td>\n",
       "      <td>S</td>\n",
       "    </tr>\n",
       "    <tr>\n",
       "      <th>1</th>\n",
       "      <td>2</td>\n",
       "      <td>1</td>\n",
       "      <td>1</td>\n",
       "      <td>Cumings, Mrs. John Bradley (Florence Briggs Th...</td>\n",
       "      <td>female</td>\n",
       "      <td>38.0</td>\n",
       "      <td>1</td>\n",
       "      <td>0</td>\n",
       "      <td>PC 17599</td>\n",
       "      <td>71.2833</td>\n",
       "      <td>C85</td>\n",
       "      <td>C</td>\n",
       "    </tr>\n",
       "    <tr>\n",
       "      <th>2</th>\n",
       "      <td>3</td>\n",
       "      <td>1</td>\n",
       "      <td>3</td>\n",
       "      <td>Heikkinen, Miss. Laina</td>\n",
       "      <td>female</td>\n",
       "      <td>26.0</td>\n",
       "      <td>0</td>\n",
       "      <td>0</td>\n",
       "      <td>STON/O2. 3101282</td>\n",
       "      <td>7.9250</td>\n",
       "      <td>NaN</td>\n",
       "      <td>S</td>\n",
       "    </tr>\n",
       "    <tr>\n",
       "      <th>3</th>\n",
       "      <td>4</td>\n",
       "      <td>1</td>\n",
       "      <td>1</td>\n",
       "      <td>Futrelle, Mrs. Jacques Heath (Lily May Peel)</td>\n",
       "      <td>female</td>\n",
       "      <td>35.0</td>\n",
       "      <td>1</td>\n",
       "      <td>0</td>\n",
       "      <td>113803</td>\n",
       "      <td>53.1000</td>\n",
       "      <td>C123</td>\n",
       "      <td>S</td>\n",
       "    </tr>\n",
       "    <tr>\n",
       "      <th>4</th>\n",
       "      <td>5</td>\n",
       "      <td>0</td>\n",
       "      <td>3</td>\n",
       "      <td>Allen, Mr. William Henry</td>\n",
       "      <td>male</td>\n",
       "      <td>35.0</td>\n",
       "      <td>0</td>\n",
       "      <td>0</td>\n",
       "      <td>373450</td>\n",
       "      <td>8.0500</td>\n",
       "      <td>NaN</td>\n",
       "      <td>S</td>\n",
       "    </tr>\n",
       "  </tbody>\n",
       "</table>\n",
       "</div>"
      ],
      "text/plain": [
       "   PassengerId  Survived  Pclass  \\\n",
       "0            1         0       3   \n",
       "1            2         1       1   \n",
       "2            3         1       3   \n",
       "3            4         1       1   \n",
       "4            5         0       3   \n",
       "\n",
       "                                                Name     Sex   Age  SibSp  \\\n",
       "0                            Braund, Mr. Owen Harris    male  22.0      1   \n",
       "1  Cumings, Mrs. John Bradley (Florence Briggs Th...  female  38.0      1   \n",
       "2                             Heikkinen, Miss. Laina  female  26.0      0   \n",
       "3       Futrelle, Mrs. Jacques Heath (Lily May Peel)  female  35.0      1   \n",
       "4                           Allen, Mr. William Henry    male  35.0      0   \n",
       "\n",
       "   Parch            Ticket     Fare Cabin Embarked  \n",
       "0      0         A/5 21171   7.2500   NaN        S  \n",
       "1      0          PC 17599  71.2833   C85        C  \n",
       "2      0  STON/O2. 3101282   7.9250   NaN        S  \n",
       "3      0            113803  53.1000  C123        S  \n",
       "4      0            373450   8.0500   NaN        S  "
      ]
     },
     "execution_count": 5,
     "metadata": {},
     "output_type": "execute_result"
    }
   ],
   "source": [
    "#In the column 'Age' we have 177 rows with missing values, we can erase those files but that represent 20% of the data so we could lose precision.\n",
    "#As our first option, we can fill those missing values with the mean of that column.\n",
    "train_titanic['Age'] = train_titanic['Age'].replace(np.nan, train_titanic['Age'].mean())\n",
    "train_titanic.head()"
   ]
  },
  {
   "cell_type": "code",
   "execution_count": 6,
   "id": "c334cf3b",
   "metadata": {
    "execution": {
     "iopub.execute_input": "2022-02-10T19:14:43.226066Z",
     "iopub.status.busy": "2022-02-10T19:14:43.225143Z",
     "iopub.status.idle": "2022-02-10T19:14:43.232114Z",
     "shell.execute_reply": "2022-02-10T19:14:43.232617Z",
     "shell.execute_reply.started": "2022-02-10T18:56:08.107610Z"
    },
    "papermill": {
     "duration": 0.026894,
     "end_time": "2022-02-10T19:14:43.232779",
     "exception": false,
     "start_time": "2022-02-10T19:14:43.205885",
     "status": "completed"
    },
    "tags": []
   },
   "outputs": [],
   "source": [
    "#Now we've changed the missing values for the mean in 'Age' columns, let's split our data.\n",
    "#The prediction target is: 'Survived'\n",
    "y = train_titanic.Survived\n",
    "\n",
    "#We need to choose the feature data in order to train the model.\n",
    "feature_data = ['Pclass','Sex','Age','SibSp','Parch']\n",
    "X = train_titanic[feature_data]"
   ]
  },
  {
   "cell_type": "code",
   "execution_count": 7,
   "id": "ecde0135",
   "metadata": {
    "execution": {
     "iopub.execute_input": "2022-02-10T19:14:43.269304Z",
     "iopub.status.busy": "2022-02-10T19:14:43.268386Z",
     "iopub.status.idle": "2022-02-10T19:14:43.275676Z",
     "shell.execute_reply": "2022-02-10T19:14:43.276135Z",
     "shell.execute_reply.started": "2022-02-10T18:56:11.344577Z"
    },
    "papermill": {
     "duration": 0.026952,
     "end_time": "2022-02-10T19:14:43.276295",
     "exception": false,
     "start_time": "2022-02-10T19:14:43.249343",
     "status": "completed"
    },
    "tags": []
   },
   "outputs": [],
   "source": [
    "#The values on 'Age' are float, let's convert it to int.\n",
    "X= X.round(0).astype({'Age':'int'})"
   ]
  },
  {
   "cell_type": "code",
   "execution_count": 8,
   "id": "b46e43ec",
   "metadata": {
    "execution": {
     "iopub.execute_input": "2022-02-10T19:14:43.311113Z",
     "iopub.status.busy": "2022-02-10T19:14:43.310205Z",
     "iopub.status.idle": "2022-02-10T19:14:43.315704Z",
     "shell.execute_reply": "2022-02-10T19:14:43.316126Z",
     "shell.execute_reply.started": "2022-02-10T18:56:15.343986Z"
    },
    "papermill": {
     "duration": 0.02461,
     "end_time": "2022-02-10T19:14:43.316280",
     "exception": false,
     "start_time": "2022-02-10T19:14:43.291670",
     "status": "completed"
    },
    "tags": []
   },
   "outputs": [],
   "source": [
    "#We see that the feature called 'Sex' is a categorical variable, we're going to change it into numerical variable male = 0 and female = 1.\n",
    "#Having only numerical categories will improve the execution time of the ML models.\n",
    "X['Sex'] = X['Sex'].replace(['male','female'],[0,1])"
   ]
  },
  {
   "cell_type": "code",
   "execution_count": 9,
   "id": "6a7fa1bc",
   "metadata": {
    "execution": {
     "iopub.execute_input": "2022-02-10T19:14:43.353769Z",
     "iopub.status.busy": "2022-02-10T19:14:43.352760Z",
     "iopub.status.idle": "2022-02-10T19:14:43.354790Z",
     "shell.execute_reply": "2022-02-10T19:14:43.355279Z",
     "shell.execute_reply.started": "2022-02-10T17:47:58.390461Z"
    },
    "papermill": {
     "duration": 0.023551,
     "end_time": "2022-02-10T19:14:43.355461",
     "exception": false,
     "start_time": "2022-02-10T19:14:43.331910",
     "status": "completed"
    },
    "tags": []
   },
   "outputs": [],
   "source": [
    "#In order to validate the model and get the error, we split our data into training and validation.\n",
    "#from sklearn.model_selection import train_test_split\n",
    "#train_X, val_X, train_y, val_y = train_test_split(X, y, random_state = 1)"
   ]
  },
  {
   "cell_type": "code",
   "execution_count": 10,
   "id": "38caba27",
   "metadata": {
    "execution": {
     "iopub.execute_input": "2022-02-10T19:14:43.390949Z",
     "iopub.status.busy": "2022-02-10T19:14:43.390228Z",
     "iopub.status.idle": "2022-02-10T19:14:44.818054Z",
     "shell.execute_reply": "2022-02-10T19:14:44.818629Z",
     "shell.execute_reply.started": "2022-02-10T18:56:18.813026Z"
    },
    "papermill": {
     "duration": 1.446844,
     "end_time": "2022-02-10T19:14:44.818804",
     "exception": false,
     "start_time": "2022-02-10T19:14:43.371960",
     "status": "completed"
    },
    "tags": []
   },
   "outputs": [
    {
     "data": {
      "text/plain": [
       "RandomForestRegressor(random_state=1)"
      ]
     },
     "execution_count": 10,
     "metadata": {},
     "output_type": "execute_result"
    }
   ],
   "source": [
    "#We're going to use Random forest as our ML model to predict the data.\n",
    "from sklearn.ensemble import RandomForestRegressor\n",
    "titanic_model = RandomForestRegressor(random_state=1)\n",
    "#Let's fit the model\n",
    "titanic_model.fit(X, y)"
   ]
  },
  {
   "cell_type": "code",
   "execution_count": 11,
   "id": "4a608474",
   "metadata": {
    "execution": {
     "iopub.execute_input": "2022-02-10T19:14:44.864170Z",
     "iopub.status.busy": "2022-02-10T19:14:44.860661Z",
     "iopub.status.idle": "2022-02-10T19:14:44.876155Z",
     "shell.execute_reply": "2022-02-10T19:14:44.876685Z",
     "shell.execute_reply.started": "2022-02-10T18:56:23.067970Z"
    },
    "papermill": {
     "duration": 0.041663,
     "end_time": "2022-02-10T19:14:44.876861",
     "exception": false,
     "start_time": "2022-02-10T19:14:44.835198",
     "status": "completed"
    },
    "tags": []
   },
   "outputs": [
    {
     "name": "stdout",
     "output_type": "stream",
     "text": [
      "<class 'pandas.core.frame.DataFrame'>\n",
      "RangeIndex: 418 entries, 0 to 417\n",
      "Data columns (total 11 columns):\n",
      " #   Column       Non-Null Count  Dtype  \n",
      "---  ------       --------------  -----  \n",
      " 0   PassengerId  418 non-null    int64  \n",
      " 1   Pclass       418 non-null    int64  \n",
      " 2   Name         418 non-null    object \n",
      " 3   Sex          418 non-null    int64  \n",
      " 4   Age          418 non-null    int64  \n",
      " 5   SibSp        418 non-null    int64  \n",
      " 6   Parch        418 non-null    int64  \n",
      " 7   Ticket       418 non-null    object \n",
      " 8   Fare         417 non-null    float64\n",
      " 9   Cabin        91 non-null     object \n",
      " 10  Embarked     418 non-null    object \n",
      "dtypes: float64(1), int64(6), object(4)\n",
      "memory usage: 36.0+ KB\n"
     ]
    }
   ],
   "source": [
    "#Now we take the test dataset\n",
    "test_titanic['Age'] = test_titanic['Age'].replace(np.nan, test_titanic['Age'].mean())\n",
    "test_titanic= test_titanic.round(0).astype({'Age':'int'})\n",
    "test_titanic['Sex'] = test_titanic['Sex'].replace(['male','female'],[0,1])\n",
    "test_titanic.info()"
   ]
  },
  {
   "cell_type": "code",
   "execution_count": 12,
   "id": "8b176609",
   "metadata": {
    "execution": {
     "iopub.execute_input": "2022-02-10T19:14:44.924353Z",
     "iopub.status.busy": "2022-02-10T19:14:44.923694Z",
     "iopub.status.idle": "2022-02-10T19:14:44.927173Z",
     "shell.execute_reply": "2022-02-10T19:14:44.927616Z",
     "shell.execute_reply.started": "2022-02-10T18:56:26.690204Z"
    },
    "papermill": {
     "duration": 0.033498,
     "end_time": "2022-02-10T19:14:44.927780",
     "exception": false,
     "start_time": "2022-02-10T19:14:44.894282",
     "status": "completed"
    },
    "tags": []
   },
   "outputs": [
    {
     "data": {
      "text/html": [
       "<div>\n",
       "<style scoped>\n",
       "    .dataframe tbody tr th:only-of-type {\n",
       "        vertical-align: middle;\n",
       "    }\n",
       "\n",
       "    .dataframe tbody tr th {\n",
       "        vertical-align: top;\n",
       "    }\n",
       "\n",
       "    .dataframe thead th {\n",
       "        text-align: right;\n",
       "    }\n",
       "</style>\n",
       "<table border=\"1\" class=\"dataframe\">\n",
       "  <thead>\n",
       "    <tr style=\"text-align: right;\">\n",
       "      <th></th>\n",
       "      <th>Pclass</th>\n",
       "      <th>Sex</th>\n",
       "      <th>Age</th>\n",
       "      <th>SibSp</th>\n",
       "      <th>Parch</th>\n",
       "    </tr>\n",
       "  </thead>\n",
       "  <tbody>\n",
       "    <tr>\n",
       "      <th>0</th>\n",
       "      <td>3</td>\n",
       "      <td>0</td>\n",
       "      <td>34</td>\n",
       "      <td>0</td>\n",
       "      <td>0</td>\n",
       "    </tr>\n",
       "    <tr>\n",
       "      <th>1</th>\n",
       "      <td>3</td>\n",
       "      <td>1</td>\n",
       "      <td>47</td>\n",
       "      <td>1</td>\n",
       "      <td>0</td>\n",
       "    </tr>\n",
       "    <tr>\n",
       "      <th>2</th>\n",
       "      <td>2</td>\n",
       "      <td>0</td>\n",
       "      <td>62</td>\n",
       "      <td>0</td>\n",
       "      <td>0</td>\n",
       "    </tr>\n",
       "    <tr>\n",
       "      <th>3</th>\n",
       "      <td>3</td>\n",
       "      <td>0</td>\n",
       "      <td>27</td>\n",
       "      <td>0</td>\n",
       "      <td>0</td>\n",
       "    </tr>\n",
       "    <tr>\n",
       "      <th>4</th>\n",
       "      <td>3</td>\n",
       "      <td>1</td>\n",
       "      <td>22</td>\n",
       "      <td>1</td>\n",
       "      <td>1</td>\n",
       "    </tr>\n",
       "    <tr>\n",
       "      <th>...</th>\n",
       "      <td>...</td>\n",
       "      <td>...</td>\n",
       "      <td>...</td>\n",
       "      <td>...</td>\n",
       "      <td>...</td>\n",
       "    </tr>\n",
       "    <tr>\n",
       "      <th>413</th>\n",
       "      <td>3</td>\n",
       "      <td>0</td>\n",
       "      <td>30</td>\n",
       "      <td>0</td>\n",
       "      <td>0</td>\n",
       "    </tr>\n",
       "    <tr>\n",
       "      <th>414</th>\n",
       "      <td>1</td>\n",
       "      <td>1</td>\n",
       "      <td>39</td>\n",
       "      <td>0</td>\n",
       "      <td>0</td>\n",
       "    </tr>\n",
       "    <tr>\n",
       "      <th>415</th>\n",
       "      <td>3</td>\n",
       "      <td>0</td>\n",
       "      <td>38</td>\n",
       "      <td>0</td>\n",
       "      <td>0</td>\n",
       "    </tr>\n",
       "    <tr>\n",
       "      <th>416</th>\n",
       "      <td>3</td>\n",
       "      <td>0</td>\n",
       "      <td>30</td>\n",
       "      <td>0</td>\n",
       "      <td>0</td>\n",
       "    </tr>\n",
       "    <tr>\n",
       "      <th>417</th>\n",
       "      <td>3</td>\n",
       "      <td>0</td>\n",
       "      <td>30</td>\n",
       "      <td>1</td>\n",
       "      <td>1</td>\n",
       "    </tr>\n",
       "  </tbody>\n",
       "</table>\n",
       "<p>418 rows × 5 columns</p>\n",
       "</div>"
      ],
      "text/plain": [
       "     Pclass  Sex  Age  SibSp  Parch\n",
       "0         3    0   34      0      0\n",
       "1         3    1   47      1      0\n",
       "2         2    0   62      0      0\n",
       "3         3    0   27      0      0\n",
       "4         3    1   22      1      1\n",
       "..      ...  ...  ...    ...    ...\n",
       "413       3    0   30      0      0\n",
       "414       1    1   39      0      0\n",
       "415       3    0   38      0      0\n",
       "416       3    0   30      0      0\n",
       "417       3    0   30      1      1\n",
       "\n",
       "[418 rows x 5 columns]"
      ]
     },
     "execution_count": 12,
     "metadata": {},
     "output_type": "execute_result"
    }
   ],
   "source": [
    "test_X = test_titanic[feature_data]\n",
    "test_X"
   ]
  },
  {
   "cell_type": "code",
   "execution_count": 13,
   "id": "131d258d",
   "metadata": {
    "execution": {
     "iopub.execute_input": "2022-02-10T19:14:44.970488Z",
     "iopub.status.busy": "2022-02-10T19:14:44.969648Z",
     "iopub.status.idle": "2022-02-10T19:14:44.984493Z",
     "shell.execute_reply": "2022-02-10T19:14:44.983826Z",
     "shell.execute_reply.started": "2022-02-10T18:56:30.371252Z"
    },
    "papermill": {
     "duration": 0.039388,
     "end_time": "2022-02-10T19:14:44.984638",
     "exception": false,
     "start_time": "2022-02-10T19:14:44.945250",
     "status": "completed"
    },
    "tags": []
   },
   "outputs": [],
   "source": [
    "#Let's predict how many people survived\n",
    "survived_array = titanic_model.predict(test_X).round(0).astype(int)"
   ]
  },
  {
   "cell_type": "code",
   "execution_count": 14,
   "id": "9db31c94",
   "metadata": {
    "execution": {
     "iopub.execute_input": "2022-02-10T19:14:45.024394Z",
     "iopub.status.busy": "2022-02-10T19:14:45.023455Z",
     "iopub.status.idle": "2022-02-10T19:14:45.030296Z",
     "shell.execute_reply": "2022-02-10T19:14:45.030764Z",
     "shell.execute_reply.started": "2022-02-10T18:56:33.146734Z"
    },
    "papermill": {
     "duration": 0.028311,
     "end_time": "2022-02-10T19:14:45.030924",
     "exception": false,
     "start_time": "2022-02-10T19:14:45.002613",
     "status": "completed"
    },
    "tags": []
   },
   "outputs": [
    {
     "data": {
      "text/plain": [
       "array([0, 0, 1, 1, 0, 0, 1, 0, 1, 0, 0, 0, 1, 1, 1, 1, 0, 0, 0, 0, 0, 1,\n",
       "       1, 0, 1, 0, 1, 0, 0, 0, 0, 0, 0, 0, 0, 0, 1, 0, 0, 0, 0, 0, 0, 1,\n",
       "       1, 0, 0, 0, 1, 0, 0, 0, 1, 1, 0, 0, 0, 0, 0, 1, 0, 0, 0, 1, 1, 1,\n",
       "       1, 0, 0, 1, 0, 0, 0, 1, 1, 1, 0, 1, 0, 0, 1, 0, 1, 0, 0, 0, 1, 1,\n",
       "       1, 1, 0, 0, 0, 0, 1, 0, 1, 0, 0, 0, 1, 0, 0, 0, 1, 0, 0, 0, 0, 0,\n",
       "       0, 1, 1, 1, 1, 0, 0, 1, 1, 1, 1, 0, 1, 0, 0, 0, 0, 1, 0, 0, 0, 1,\n",
       "       0, 0, 0, 0, 0, 0, 0, 0, 0, 1, 0, 0, 1, 0, 0, 0, 0, 0, 1, 0, 0, 0,\n",
       "       0, 0, 1, 0, 1, 1, 1, 1, 1, 0, 0, 0, 1, 0, 1, 1, 0, 1, 0, 0, 0, 1,\n",
       "       1, 0, 1, 1, 0, 1, 1, 0, 1, 0, 1, 0, 0, 0, 0, 0, 1, 0, 1, 0, 1, 1,\n",
       "       0, 1, 1, 1, 0, 1, 0, 0, 1, 0, 1, 0, 0, 0, 0, 1, 0, 1, 1, 1, 1, 0,\n",
       "       1, 0, 1, 0, 1, 0, 0, 1, 0, 0, 0, 1, 0, 0, 1, 0, 0, 0, 1, 1, 1, 1,\n",
       "       0, 0, 0, 0, 1, 0, 1, 1, 1, 0, 1, 0, 0, 0, 0, 0, 1, 0, 0, 0, 1, 1,\n",
       "       0, 0, 0, 0, 1, 0, 0, 0, 1, 1, 0, 1, 0, 0, 0, 0, 0, 1, 1, 0, 1, 0,\n",
       "       0, 0, 0, 0, 0, 1, 0, 0, 0, 0, 1, 0, 0, 0, 0, 0, 0, 0, 1, 1, 0, 1,\n",
       "       0, 0, 0, 0, 0, 0, 1, 0, 0, 0, 1, 0, 0, 0, 0, 0, 1, 0, 1, 0, 0, 0,\n",
       "       1, 0, 0, 0, 1, 0, 0, 0, 0, 0, 0, 0, 0, 1, 1, 1, 0, 0, 0, 1, 1, 0,\n",
       "       0, 0, 1, 1, 1, 0, 0, 1, 0, 1, 1, 1, 1, 0, 0, 1, 1, 0, 0, 1, 1, 0,\n",
       "       1, 1, 0, 0, 0, 0, 0, 0, 1, 1, 0, 1, 0, 0, 0, 0, 0, 1, 0, 0, 0, 1,\n",
       "       0, 1, 0, 0, 1, 0, 1, 0, 1, 0, 0, 0, 1, 1, 1, 1, 0, 0, 1, 0, 0, 1])"
      ]
     },
     "execution_count": 14,
     "metadata": {},
     "output_type": "execute_result"
    }
   ],
   "source": [
    "survived_array"
   ]
  },
  {
   "cell_type": "code",
   "execution_count": 15,
   "id": "ebca9480",
   "metadata": {
    "execution": {
     "iopub.execute_input": "2022-02-10T19:14:45.071866Z",
     "iopub.status.busy": "2022-02-10T19:14:45.071056Z",
     "iopub.status.idle": "2022-02-10T19:14:45.074084Z",
     "shell.execute_reply": "2022-02-10T19:14:45.073476Z",
     "shell.execute_reply.started": "2022-02-10T18:18:02.265440Z"
    },
    "papermill": {
     "duration": 0.025036,
     "end_time": "2022-02-10T19:14:45.074226",
     "exception": false,
     "start_time": "2022-02-10T19:14:45.049190",
     "status": "completed"
    },
    "tags": []
   },
   "outputs": [],
   "source": [
    "#Let's calculate the Mean Absolute Error.\n",
    "#from sklearn.metrics import mean_absolute_error\n",
    "#survived_error = mean_absolute_error(survived_array, )\n",
    "#print('The mean absolute error is: {}'.format(survived_error))"
   ]
  },
  {
   "cell_type": "code",
   "execution_count": 16,
   "id": "a60e82e4",
   "metadata": {
    "execution": {
     "iopub.execute_input": "2022-02-10T19:14:45.116898Z",
     "iopub.status.busy": "2022-02-10T19:14:45.115903Z",
     "iopub.status.idle": "2022-02-10T19:14:45.118218Z",
     "shell.execute_reply": "2022-02-10T19:14:45.118844Z",
     "shell.execute_reply.started": "2022-02-10T19:02:10.787352Z"
    },
    "papermill": {
     "duration": 0.026261,
     "end_time": "2022-02-10T19:14:45.119008",
     "exception": false,
     "start_time": "2022-02-10T19:14:45.092747",
     "status": "completed"
    },
    "tags": []
   },
   "outputs": [],
   "source": [
    "submission_template['Survived'] = survived_array"
   ]
  },
  {
   "cell_type": "code",
   "execution_count": 17,
   "id": "e987a114",
   "metadata": {
    "execution": {
     "iopub.execute_input": "2022-02-10T19:14:45.162475Z",
     "iopub.status.busy": "2022-02-10T19:14:45.161272Z",
     "iopub.status.idle": "2022-02-10T19:14:45.168855Z",
     "shell.execute_reply": "2022-02-10T19:14:45.169452Z",
     "shell.execute_reply.started": "2022-02-10T19:02:15.834887Z"
    },
    "papermill": {
     "duration": 0.032203,
     "end_time": "2022-02-10T19:14:45.169639",
     "exception": false,
     "start_time": "2022-02-10T19:14:45.137436",
     "status": "completed"
    },
    "tags": []
   },
   "outputs": [
    {
     "data": {
      "text/html": [
       "<div>\n",
       "<style scoped>\n",
       "    .dataframe tbody tr th:only-of-type {\n",
       "        vertical-align: middle;\n",
       "    }\n",
       "\n",
       "    .dataframe tbody tr th {\n",
       "        vertical-align: top;\n",
       "    }\n",
       "\n",
       "    .dataframe thead th {\n",
       "        text-align: right;\n",
       "    }\n",
       "</style>\n",
       "<table border=\"1\" class=\"dataframe\">\n",
       "  <thead>\n",
       "    <tr style=\"text-align: right;\">\n",
       "      <th></th>\n",
       "      <th>PassengerId</th>\n",
       "      <th>Survived</th>\n",
       "    </tr>\n",
       "  </thead>\n",
       "  <tbody>\n",
       "    <tr>\n",
       "      <th>0</th>\n",
       "      <td>892</td>\n",
       "      <td>0</td>\n",
       "    </tr>\n",
       "    <tr>\n",
       "      <th>1</th>\n",
       "      <td>893</td>\n",
       "      <td>0</td>\n",
       "    </tr>\n",
       "    <tr>\n",
       "      <th>2</th>\n",
       "      <td>894</td>\n",
       "      <td>1</td>\n",
       "    </tr>\n",
       "    <tr>\n",
       "      <th>3</th>\n",
       "      <td>895</td>\n",
       "      <td>1</td>\n",
       "    </tr>\n",
       "    <tr>\n",
       "      <th>4</th>\n",
       "      <td>896</td>\n",
       "      <td>0</td>\n",
       "    </tr>\n",
       "    <tr>\n",
       "      <th>...</th>\n",
       "      <td>...</td>\n",
       "      <td>...</td>\n",
       "    </tr>\n",
       "    <tr>\n",
       "      <th>413</th>\n",
       "      <td>1305</td>\n",
       "      <td>0</td>\n",
       "    </tr>\n",
       "    <tr>\n",
       "      <th>414</th>\n",
       "      <td>1306</td>\n",
       "      <td>1</td>\n",
       "    </tr>\n",
       "    <tr>\n",
       "      <th>415</th>\n",
       "      <td>1307</td>\n",
       "      <td>0</td>\n",
       "    </tr>\n",
       "    <tr>\n",
       "      <th>416</th>\n",
       "      <td>1308</td>\n",
       "      <td>0</td>\n",
       "    </tr>\n",
       "    <tr>\n",
       "      <th>417</th>\n",
       "      <td>1309</td>\n",
       "      <td>1</td>\n",
       "    </tr>\n",
       "  </tbody>\n",
       "</table>\n",
       "<p>418 rows × 2 columns</p>\n",
       "</div>"
      ],
      "text/plain": [
       "     PassengerId  Survived\n",
       "0            892         0\n",
       "1            893         0\n",
       "2            894         1\n",
       "3            895         1\n",
       "4            896         0\n",
       "..           ...       ...\n",
       "413         1305         0\n",
       "414         1306         1\n",
       "415         1307         0\n",
       "416         1308         0\n",
       "417         1309         1\n",
       "\n",
       "[418 rows x 2 columns]"
      ]
     },
     "execution_count": 17,
     "metadata": {},
     "output_type": "execute_result"
    }
   ],
   "source": [
    "submission_template"
   ]
  },
  {
   "cell_type": "code",
   "execution_count": null,
   "id": "90008fbb",
   "metadata": {
    "papermill": {
     "duration": 0.017691,
     "end_time": "2022-02-10T19:14:45.205463",
     "exception": false,
     "start_time": "2022-02-10T19:14:45.187772",
     "status": "completed"
    },
    "tags": []
   },
   "outputs": [],
   "source": []
  }
 ],
 "metadata": {
  "kernelspec": {
   "display_name": "Python 3",
   "language": "python",
   "name": "python3"
  },
  "language_info": {
   "codemirror_mode": {
    "name": "ipython",
    "version": 3
   },
   "file_extension": ".py",
   "mimetype": "text/x-python",
   "name": "python",
   "nbconvert_exporter": "python",
   "pygments_lexer": "ipython3",
   "version": "3.7.12"
  },
  "papermill": {
   "default_parameters": {},
   "duration": 12.577966,
   "end_time": "2022-02-10T19:14:45.934267",
   "environment_variables": {},
   "exception": null,
   "input_path": "__notebook__.ipynb",
   "output_path": "__notebook__.ipynb",
   "parameters": {},
   "start_time": "2022-02-10T19:14:33.356301",
   "version": "2.3.3"
  }
 },
 "nbformat": 4,
 "nbformat_minor": 5
}
