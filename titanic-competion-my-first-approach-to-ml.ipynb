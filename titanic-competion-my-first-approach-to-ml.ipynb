{
 "cells": [
  {
   "cell_type": "code",
   "execution_count": 1,
   "id": "ba080721",
   "metadata": {
    "_cell_guid": "b1076dfc-b9ad-4769-8c92-a6c4dae69d19",
    "_uuid": "8f2839f25d086af736a60e9eeb907d3b93b6e0e5",
    "execution": {
     "iopub.execute_input": "2022-02-08T22:59:27.812181Z",
     "iopub.status.busy": "2022-02-08T22:59:27.811484Z",
     "iopub.status.idle": "2022-02-08T22:59:27.820064Z",
     "shell.execute_reply": "2022-02-08T22:59:27.820591Z",
     "shell.execute_reply.started": "2022-02-08T22:47:52.872183Z"
    },
    "papermill": {
     "duration": 0.025137,
     "end_time": "2022-02-08T22:59:27.820867",
     "exception": false,
     "start_time": "2022-02-08T22:59:27.795730",
     "status": "completed"
    },
    "tags": []
   },
   "outputs": [
    {
     "name": "stdout",
     "output_type": "stream",
     "text": [
      "/kaggle/input/titanic/train.csv\n",
      "/kaggle/input/titanic/test.csv\n",
      "/kaggle/input/titanic/gender_submission.csv\n"
     ]
    }
   ],
   "source": [
    "# This Python 3 environment comes with many helpful analytics libraries installed\n",
    "# It is defined by the kaggle/python Docker image: https://github.com/kaggle/docker-python\n",
    "# For example, here's several helpful packages to load\n",
    "\n",
    "import numpy as np # linear algebra\n",
    "import pandas as pd # data processing, CSV file I/O (e.g. pd.read_csv)\n",
    "\n",
    "# Input data files are available in the read-only \"../input/\" directory\n",
    "# For example, running this (by clicking run or pressing Shift+Enter) will list all files under the input directory\n",
    "\n",
    "import os\n",
    "for dirname, _, filenames in os.walk('/kaggle/input'):\n",
    "    for filename in filenames:\n",
    "        print(os.path.join(dirname, filename))\n",
    "\n",
    "# You can write up to 20GB to the current directory (/kaggle/working/) that gets preserved as output when you create a version using \"Save & Run All\" \n",
    "# You can also write temporary files to /kaggle/temp/, but they won't be saved outside of the current session"
   ]
  },
  {
   "cell_type": "code",
   "execution_count": 2,
   "id": "f0138d92",
   "metadata": {
    "execution": {
     "iopub.execute_input": "2022-02-08T22:59:27.834874Z",
     "iopub.status.busy": "2022-02-08T22:59:27.834272Z",
     "iopub.status.idle": "2022-02-08T22:59:27.871200Z",
     "shell.execute_reply": "2022-02-08T22:59:27.870492Z",
     "shell.execute_reply.started": "2022-02-08T22:53:49.770819Z"
    },
    "papermill": {
     "duration": 0.045726,
     "end_time": "2022-02-08T22:59:27.871352",
     "exception": false,
     "start_time": "2022-02-08T22:59:27.825626",
     "status": "completed"
    },
    "tags": []
   },
   "outputs": [],
   "source": [
    "#Welcome to my notebook about Titanic contest. \n",
    "#First of all, let's save the datasets into variables in order to use it later.\n",
    "train_titanic = pd.read_csv('/kaggle/input/titanic/train.csv')\n",
    "test_titanic = pd.read_csv('/kaggle/input/titanic/test.csv')\n",
    "submission_template = pd.read_csv('/kaggle/input/titanic/gender_submission.csv')"
   ]
  },
  {
   "cell_type": "code",
   "execution_count": null,
   "id": "69fa54a0",
   "metadata": {
    "papermill": {
     "duration": 0.003839,
     "end_time": "2022-02-08T22:59:27.879543",
     "exception": false,
     "start_time": "2022-02-08T22:59:27.875704",
     "status": "completed"
    },
    "tags": []
   },
   "outputs": [],
   "source": []
  }
 ],
 "metadata": {
  "kernelspec": {
   "display_name": "Python 3",
   "language": "python",
   "name": "python3"
  },
  "language_info": {
   "codemirror_mode": {
    "name": "ipython",
    "version": 3
   },
   "file_extension": ".py",
   "mimetype": "text/x-python",
   "name": "python",
   "nbconvert_exporter": "python",
   "pygments_lexer": "ipython3",
   "version": "3.7.12"
  },
  "papermill": {
   "default_parameters": {},
   "duration": 10.816944,
   "end_time": "2022-02-08T22:59:28.492943",
   "environment_variables": {},
   "exception": null,
   "input_path": "__notebook__.ipynb",
   "output_path": "__notebook__.ipynb",
   "parameters": {},
   "start_time": "2022-02-08T22:59:17.675999",
   "version": "2.3.3"
  }
 },
 "nbformat": 4,
 "nbformat_minor": 5
}
